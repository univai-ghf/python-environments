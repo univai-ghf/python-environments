{
 "cells": [
  {
   "cell_type": "markdown",
   "metadata": {},
   "source": [
    "# Homework: EDA for movies\n",
    "\n",
    "This notebook is based on work by [Chris Beaumont](http://chrisbeaumont.org) for cs109.\n",
    "\n",
    "We will be using our fork the True neutral cookiecutter here with the following file structure:\n",
    "\n",
    "```\n",
    "├── data\n",
    "├── processed_data\n",
    "├── doc\n",
    "├── results\n",
    "├── scripts\n",
    "├── src\n",
    "│   └── __init__.py\n",
    "├── tests\n",
    "├── .gitignore\n",
    "├── environment.yml\n",
    "├── README.md\n",
    "└── setup.py\n",
    "```\n"
   ]
  },
  {
   "cell_type": "code",
   "execution_count": 23,
   "metadata": {},
   "outputs": [],
   "source": [
    "%load_ext autoreload\n",
    "%autoreload 2"
   ]
  },
  {
   "cell_type": "markdown",
   "metadata": {},
   "source": [
    "## What work do we want from you?\n",
    "\n",
    "Your job will be to take this notebook and:\n",
    "\n",
    "1. Use our fork of the [True Neutral Cookiecutter](https://github.com/patrickmineault/true-neutral-cookiecutter) (we add an aditional folder `processed_data`. Install via: `cookiecutter gh:univai-ghf/true-neutral-cookiecutter` to create a folder in which this notebook and the data file `data/imdb_top_10000.txt` lives according to the documentation [here](https://goodresearch.dev/setup.html#create-a-project-skeleton) and the file-structure above. Call the project folder `imdb`.\n",
    "2. Create an `environment.yml` file with an environment named `imdb` and use it to create and then activate the `imdb` virtual environment. Make sure that `ipykernel` is one of the packages installed so the `imdb` environment shows up in your jupyterlab. Also make sure that the `src` subfolder if a python package locally installable in the `imdb` environment using ``pip install -e .`\n",
    "3. In the `scripts` folder below `imdb`re-create this notebook as `1.setting_up_for_eda.ipynb`. The number `1` refers to the ordering of the notebooks if there were more than one: `0` might refer to obtaining the data and `2` to doing the eda for example.\n",
    "4. You will also create a key data file from the work in this notebook and then remove those cells from the final notebook in the `notebooks` folder. This goes in the `docs` folder\n",
    "5. You will refactor the following functions `pretty_print(df)` and `tbl_report(tbl, cols=None, card=10)` to belong to `src/eda.py` and then import these into the notebook in the `notebooks` folder\n",
    "6. You will refactor the genre-column expanding code below into `src/feature_transforms.py` and import it into the notebook and use it generically\n",
    "7. You will save the processed data as `imdb_top_10000_cleaned.csv` into the `processed_data` folder.\n",
    "8. Make sure your entire notebook runs in the `imdb` environment, and that once done, you run the cells from top to bottom.\n",
    "\n",
    "Once these steps are done you will have a new notebook in `imdb/scripts`, raw data in `imdb/data`, a key csv file in `imdb/docs`, two source files `imdb/src/eda.py` and `imdb/src/feature_transforms.py`, and a cleaned file `imdb/processed_data/imdb_top_10000_cleaned.csv` .\n",
    "\n",
    "Compress(zip) the imdb folder as `imdb.zip` and upload it to the form we will provide in the forum thread for this workshop. On linux on binder this can be done by `zip -r imdb.zip imdb`.\n",
    "\n",
    "The rest of this notebook is our actual data science process which you will reflect into your notebook in `imdb/scripts`"
   ]
  },
  {
   "cell_type": "markdown",
   "metadata": {},
   "source": [
    "## 1. Build a DataFrame"
   ]
  },
  {
   "cell_type": "code",
   "execution_count": 1,
   "metadata": {
    "collapsed": false,
    "jupyter": {
     "outputs_hidden": false
    }
   },
   "outputs": [],
   "source": [
    "%matplotlib inline\n",
    "\n",
    "import matplotlib.pyplot as plt\n",
    "import pandas as pd\n",
    "import numpy as np"
   ]
  },
  {
   "cell_type": "markdown",
   "metadata": {},
   "source": [
    "Here's a preview of the raw data we'll use -- it's a list of the 10,000 movies made since 1950 with the most IMDB user ratings. It was scraped in 2012 from [pages like this](http://www.imdb.com/search/title?sort=num_votes,desc&title_type=feature&year=1950,2012). "
   ]
  },
  {
   "cell_type": "code",
   "execution_count": 2,
   "metadata": {
    "collapsed": false,
    "jupyter": {
     "outputs_hidden": false
    }
   },
   "outputs": [
    {
     "name": "stdout",
     "output_type": "stream",
     "text": [
      "tt0111161\tThe Shawshank Redemption (1994)\t1994\t 9.2\t619479\t142 mins.\tCrime|Drama\n",
      "tt0110912\tPulp Fiction (1994)\t1994\t 9.0\t490065\t154 mins.\tCrime|Thriller\n",
      "tt0137523\tFight Club (1999)\t1999\t 8.8\t458173\t139 mins.\tDrama|Mystery|Thriller\n",
      "tt0133093\tThe Matrix (1999)\t1999\t 8.7\t448114\t136 mins.\tAction|Adventure|Sci-Fi\n",
      "tt1375666\tInception (2010)\t2010\t 8.9\t385149\t148 mins.\tAction|Adventure|Sci-Fi|Thriller\n",
      "tt0109830\tForrest Gump (1994)\t1994\t 8.7\t368994\t142 mins.\tComedy|Drama|Romance\n",
      "tt0169547\tAmerican Beauty (1999)\t1999\t 8.6\t338332\t122 mins.\tDrama\n",
      "tt0499549\tAvatar (2009)\t2009\t 8.1\t336855\t162 mins.\tAction|Adventure|Fantasy|Sci-Fi\n",
      "tt0108052\tSchindler's List (1993)\t1993\t 8.9\t325888\t195 mins.\tBiography|Drama|History|War\n",
      "tt0080684\tStar Wars: Episode V - The Empire Strikes Back (1980)\t1980\t 8.8\t320105\t124 mins.\tAction|Adventure|Family|Sci-Fi\n"
     ]
    }
   ],
   "source": [
    "!head data/imdb_top_10000.txt"
   ]
  },
  {
   "cell_type": "markdown",
   "metadata": {},
   "source": [
    "\n",
    "The textfile is tab-separated, and doesn't have any column headers. We\n",
    "set the appropriate keywords in `pd.read_csv` to handle this"
   ]
  },
  {
   "cell_type": "code",
   "execution_count": 3,
   "metadata": {
    "collapsed": false,
    "jupyter": {
     "outputs_hidden": false
    }
   },
   "outputs": [
    {
     "name": "stdout",
     "output_type": "stream",
     "text": [
      "Number of rows: 10000\n"
     ]
    },
    {
     "data": {
      "text/html": [
       "<div>\n",
       "<style scoped>\n",
       "    .dataframe tbody tr th:only-of-type {\n",
       "        vertical-align: middle;\n",
       "    }\n",
       "\n",
       "    .dataframe tbody tr th {\n",
       "        vertical-align: top;\n",
       "    }\n",
       "\n",
       "    .dataframe thead th {\n",
       "        text-align: right;\n",
       "    }\n",
       "</style>\n",
       "<table border=\"1\" class=\"dataframe\">\n",
       "  <thead>\n",
       "    <tr style=\"text-align: right;\">\n",
       "      <th></th>\n",
       "      <th>imdbID</th>\n",
       "      <th>title</th>\n",
       "      <th>year</th>\n",
       "      <th>score</th>\n",
       "      <th>votes</th>\n",
       "      <th>runtime</th>\n",
       "      <th>genres</th>\n",
       "    </tr>\n",
       "  </thead>\n",
       "  <tbody>\n",
       "    <tr>\n",
       "      <th>0</th>\n",
       "      <td>tt0111161</td>\n",
       "      <td>The Shawshank Redemption (1994)</td>\n",
       "      <td>1994</td>\n",
       "      <td>9.2</td>\n",
       "      <td>619479</td>\n",
       "      <td>142 mins.</td>\n",
       "      <td>Crime|Drama</td>\n",
       "    </tr>\n",
       "    <tr>\n",
       "      <th>1</th>\n",
       "      <td>tt0110912</td>\n",
       "      <td>Pulp Fiction (1994)</td>\n",
       "      <td>1994</td>\n",
       "      <td>9.0</td>\n",
       "      <td>490065</td>\n",
       "      <td>154 mins.</td>\n",
       "      <td>Crime|Thriller</td>\n",
       "    </tr>\n",
       "    <tr>\n",
       "      <th>2</th>\n",
       "      <td>tt0137523</td>\n",
       "      <td>Fight Club (1999)</td>\n",
       "      <td>1999</td>\n",
       "      <td>8.8</td>\n",
       "      <td>458173</td>\n",
       "      <td>139 mins.</td>\n",
       "      <td>Drama|Mystery|Thriller</td>\n",
       "    </tr>\n",
       "    <tr>\n",
       "      <th>3</th>\n",
       "      <td>tt0133093</td>\n",
       "      <td>The Matrix (1999)</td>\n",
       "      <td>1999</td>\n",
       "      <td>8.7</td>\n",
       "      <td>448114</td>\n",
       "      <td>136 mins.</td>\n",
       "      <td>Action|Adventure|Sci-Fi</td>\n",
       "    </tr>\n",
       "    <tr>\n",
       "      <th>4</th>\n",
       "      <td>tt1375666</td>\n",
       "      <td>Inception (2010)</td>\n",
       "      <td>2010</td>\n",
       "      <td>8.9</td>\n",
       "      <td>385149</td>\n",
       "      <td>148 mins.</td>\n",
       "      <td>Action|Adventure|Sci-Fi|Thriller</td>\n",
       "    </tr>\n",
       "  </tbody>\n",
       "</table>\n",
       "</div>"
      ],
      "text/plain": [
       "      imdbID                            title  year  score   votes    runtime  \\\n",
       "0  tt0111161  The Shawshank Redemption (1994)  1994    9.2  619479  142 mins.   \n",
       "1  tt0110912              Pulp Fiction (1994)  1994    9.0  490065  154 mins.   \n",
       "2  tt0137523                Fight Club (1999)  1999    8.8  458173  139 mins.   \n",
       "3  tt0133093                The Matrix (1999)  1999    8.7  448114  136 mins.   \n",
       "4  tt1375666                 Inception (2010)  2010    8.9  385149  148 mins.   \n",
       "\n",
       "                             genres  \n",
       "0                       Crime|Drama  \n",
       "1                    Crime|Thriller  \n",
       "2            Drama|Mystery|Thriller  \n",
       "3           Action|Adventure|Sci-Fi  \n",
       "4  Action|Adventure|Sci-Fi|Thriller  "
      ]
     },
     "execution_count": 3,
     "metadata": {},
     "output_type": "execute_result"
    }
   ],
   "source": [
    "names = ['imdbID', 'title', 'year', 'score', 'votes', 'runtime', 'genres']\n",
    "data = pd.read_csv('data/imdb_top_10000.txt', delimiter='\\t', names=names)\n",
    "print(\"Number of rows: %i\" % data.shape[0])\n",
    "data.head()  # print the first 5 rows"
   ]
  },
  {
   "cell_type": "markdown",
   "metadata": {},
   "source": [
    "If you dont have a key to the data you should produce one...here I write it as a dict, but you might find it easier to whip up google sheets/excel and produce this. The idea is to store a key CSV."
   ]
  },
  {
   "cell_type": "code",
   "execution_count": 4,
   "metadata": {},
   "outputs": [
    {
     "data": {
      "text/html": [
       "<div>\n",
       "<style scoped>\n",
       "    .dataframe tbody tr th:only-of-type {\n",
       "        vertical-align: middle;\n",
       "    }\n",
       "\n",
       "    .dataframe tbody tr th {\n",
       "        vertical-align: top;\n",
       "    }\n",
       "\n",
       "    .dataframe thead th {\n",
       "        text-align: right;\n",
       "    }\n",
       "</style>\n",
       "<table border=\"1\" class=\"dataframe\">\n",
       "  <thead>\n",
       "    <tr style=\"text-align: right;\">\n",
       "      <th></th>\n",
       "      <th>Column</th>\n",
       "      <th>Description</th>\n",
       "    </tr>\n",
       "  </thead>\n",
       "  <tbody>\n",
       "    <tr>\n",
       "      <th>0</th>\n",
       "      <td>imdbID</td>\n",
       "      <td>A unique identifier for the movie in the imdb ...</td>\n",
       "    </tr>\n",
       "    <tr>\n",
       "      <th>1</th>\n",
       "      <td>title</td>\n",
       "      <td>The name of the movie</td>\n",
       "    </tr>\n",
       "    <tr>\n",
       "      <th>2</th>\n",
       "      <td>year</td>\n",
       "      <td>The year in which the movie was released</td>\n",
       "    </tr>\n",
       "    <tr>\n",
       "      <th>3</th>\n",
       "      <td>score</td>\n",
       "      <td>The score on a scale of 1-10 given my IMDB users</td>\n",
       "    </tr>\n",
       "    <tr>\n",
       "      <th>4</th>\n",
       "      <td>votes</td>\n",
       "      <td>The number of votes this movie recieved on IMDB</td>\n",
       "    </tr>\n",
       "    <tr>\n",
       "      <th>5</th>\n",
       "      <td>runtime</td>\n",
       "      <td>How long the movie runs, in minutes</td>\n",
       "    </tr>\n",
       "    <tr>\n",
       "      <th>6</th>\n",
       "      <td>genres</td>\n",
       "      <td>A pipe(|) separated list of genres for the movie</td>\n",
       "    </tr>\n",
       "  </tbody>\n",
       "</table>\n",
       "</div>"
      ],
      "text/plain": [
       "    Column                                        Description\n",
       "0   imdbID  A unique identifier for the movie in the imdb ...\n",
       "1    title                              The name of the movie\n",
       "2     year           The year in which the movie was released\n",
       "3    score   The score on a scale of 1-10 given my IMDB users\n",
       "4    votes    The number of votes this movie recieved on IMDB\n",
       "5  runtime                How long the movie runs, in minutes\n",
       "6   genres   A pipe(|) separated list of genres for the movie"
      ]
     },
     "execution_count": 4,
     "metadata": {},
     "output_type": "execute_result"
    }
   ],
   "source": [
    "datakeydict = dict(\n",
    "    imdbID = \"A unique identifier for the movie in the imdb system\",\n",
    "    title = \"The name of the movie\",\n",
    "    year = \"The year in which the movie was released\",\n",
    "    score = \"The score on a scale of 1-10 given my IMDB users\",\n",
    "    votes = \"The number of votes this movie recieved on IMDB\",\n",
    "    runtime = \"How long the movie runs, in minutes\",\n",
    "    genres = \"A pipe(|) separated list of genres for the movie\"\n",
    ")\n",
    "datakey = pd.DataFrame(datakeydict.items(), columns=['Column', 'Description'])\n",
    "datakey"
   ]
  },
  {
   "cell_type": "code",
   "execution_count": 5,
   "metadata": {},
   "outputs": [],
   "source": [
    "datakey.to_csv(\"docs/imdb_top_10000.key.txt\", index=False)"
   ]
  },
  {
   "cell_type": "markdown",
   "metadata": {},
   "source": [
    "## 2. The Check-Transform/Clean-Check cycle"
   ]
  },
  {
   "cell_type": "code",
   "execution_count": 5,
   "metadata": {},
   "outputs": [
    {
     "data": {
      "text/plain": [
       "imdbID      object\n",
       "title       object\n",
       "year         int64\n",
       "score      float64\n",
       "votes        int64\n",
       "runtime     object\n",
       "genres      object\n",
       "dtype: object"
      ]
     },
     "execution_count": 5,
     "metadata": {},
     "output_type": "execute_result"
    }
   ],
   "source": [
    "data.dtypes"
   ]
  },
  {
   "cell_type": "markdown",
   "metadata": {},
   "source": [
    "Notice that the `runtime` should be a number, the movie runtime in minutes. Looking at types can help us enormously in cleaning."
   ]
  },
  {
   "cell_type": "markdown",
   "metadata": {},
   "source": [
    "Lets see which columns have missing data:"
   ]
  },
  {
   "cell_type": "code",
   "execution_count": 6,
   "metadata": {},
   "outputs": [
    {
     "name": "stdout",
     "output_type": "stream",
     "text": [
      "imdbID 0\n",
      "title 0\n",
      "year 0\n",
      "score 0\n",
      "votes 0\n",
      "runtime 0\n",
      "genres 1\n"
     ]
    }
   ],
   "source": [
    "for cname in names:\n",
    "    print(cname, data[cname].isnull().sum())"
   ]
  },
  {
   "cell_type": "markdown",
   "metadata": {},
   "source": [
    "We can handle testing for  issues by writing a table report function:"
   ]
  },
  {
   "cell_type": "code",
   "execution_count": 7,
   "metadata": {},
   "outputs": [],
   "source": [
    "from IPython.display import display, HTML\n",
    "\n",
    "def pretty_print(df):\n",
    "    return display( HTML( df.to_html().replace(\"\\\\n\",\"<br>\") ) )\n",
    "def tbl_report(tbl, cols=None, card=10):\n",
    "    print(\"Table Shape\", tbl.shape)\n",
    "    dtypes = tbl.dtypes\n",
    "    nulls = []\n",
    "    uniques = []\n",
    "    numuniques = []\n",
    "    vcs = []\n",
    "    for col in dtypes.index:\n",
    "        n = tbl[col].isnull().sum()\n",
    "        nulls.append(n)\n",
    "        strdtcol = str(dtypes[col])\n",
    "        #if strdtcol == 'object' or strdtcol[0:3] == 'int' or strdtcol[0:3] == 'int':\n",
    "        #print(strdtcol)\n",
    "        uniqs = tbl[col].unique()\n",
    "        uniquenums = uniqs.shape[0]\n",
    "        if uniquenums < card: # low cardinality\n",
    "            valcounts = pd.value_counts(tbl[col], dropna=False)\n",
    "            vc = \"\\n\".join([\"{}:{}\".format(k,v) for k, v in valcounts.items()])\n",
    "        else:\n",
    "            vc='NA'\n",
    "        uniques.append(uniqs)\n",
    "        numuniques.append(uniquenums)\n",
    "        vcs.append(vc)\n",
    "    nullseries = pd.Series(nulls, index=dtypes.index)\n",
    "    uniqueseries = pd.Series(uniques, index=dtypes.index)\n",
    "    numuniqueseries = pd.Series(numuniques, index=dtypes.index)\n",
    "    vcseries = pd.Series(vcs, index=dtypes.index)\n",
    "    df = pd.concat([dtypes, nullseries, uniqueseries, numuniqueseries, vcseries], axis=1)\n",
    "    df.columns = ['dtype', 'nulls', 'uniques', 'num_uniques', 'value_counts']\n",
    "    if cols:\n",
    "        return pretty_print(df[cols])\n",
    "    return pretty_print(df)"
   ]
  },
  {
   "cell_type": "code",
   "execution_count": 8,
   "metadata": {},
   "outputs": [
    {
     "name": "stdout",
     "output_type": "stream",
     "text": [
      "Table Shape (10000, 7)\n"
     ]
    },
    {
     "data": {
      "text/html": [
       "<table border=\"1\" class=\"dataframe\">\n",
       "  <thead>\n",
       "    <tr style=\"text-align: right;\">\n",
       "      <th></th>\n",
       "      <th>dtype</th>\n",
       "      <th>nulls</th>\n",
       "      <th>uniques</th>\n",
       "      <th>num_uniques</th>\n",
       "      <th>value_counts</th>\n",
       "    </tr>\n",
       "  </thead>\n",
       "  <tbody>\n",
       "    <tr>\n",
       "      <th>imdbID</th>\n",
       "      <td>object</td>\n",
       "      <td>0</td>\n",
       "      <td>[tt0111161, tt0110912, tt0137523, tt0133093, tt1375666, tt0109830, tt0169547, tt0499549, tt0108052, tt0080684, tt0372784, tt0114814, tt0102926, tt0120338, tt0112573, tt0167404, tt0266697, tt0099685, tt0416449, tt0482571, tt0105236, tt0110413, tt0120689, tt0361748, tt0910970, tt0468569, tt0068646, tt0120737, tt0167260, tt0167261, tt0076759, tt0114369, tt0172495, tt0209144, tt0120815, tt0407887, tt0401792, tt0071562, tt0325980, tt0103064, tt0082971, tt0434409, tt0120586, tt0338013, tt0073486, tt0246578, tt0088763, tt0086190, tt0477348, tt0418279, tt0066921, tt1010048, tt0211915, tt0095016, tt0088247, tt0083658, tt0208092, tt0266543, tt0317248, tt1136608, tt0114746, tt0381061, tt0090605, tt0317705, tt0114709, tt0119488, tt0457430, tt0126029, tt1119646, tt0480249, tt0093058, tt0440963, tt0107290, tt0071853, tt0110357, tt0180093, tt0378194, tt0120915, tt0081505, tt0118715, tt0078748, tt0371746, tt0121766, tt0078788, tt0097576, tt0060196, tt0375679, tt0120382, tt0145487, tt0116282, tt0075314, tt0206634, tt0062622, tt0086250, tt0119217, tt0383574, tt0121765, tt0117951, tt0057012, tt0467406, ...]</td>\n",
       "      <td>10000</td>\n",
       "      <td>NA</td>\n",
       "    </tr>\n",
       "    <tr>\n",
       "      <th>title</th>\n",
       "      <td>object</td>\n",
       "      <td>0</td>\n",
       "      <td>[The Shawshank Redemption (1994), Pulp Fiction (1994), Fight Club (1999), The Matrix (1999), Inception (2010), Forrest Gump (1994), American Beauty (1999), Avatar (2009), Schindler's List (1993), Star Wars: Episode V - The Empire Strikes Back (1980), Batman Begins (2005), The Usual Suspects (1995), The Silence of the Lambs (1991), Titanic (1997), Braveheart (1995), The Sixth Sense (1999), Kill Bill: Vol. 1 (2003), Goodfellas (1990), 300 (2006), The Prestige (2006), Reservoir Dogs (1992), Leon: The Professional (1994), The Green Mile (1999), Inglourious Basterds (2009), WALL\\xb7E (2008), The Dark Knight (2008), The Godfather (1972), The Lord of the Rings: The Fellowship of the Ring (2001), The Lord of the Rings: The Return of the King (2003), The Lord of the Rings: The Two Towers (2002), Star Wars: Episode IV - A New Hope (1977), Se7en (1995), Gladiator (2000), Memento (2000), Saving Private Ryan (1998), The Departed (2006), Sin City (2005), The Godfather: Part II (1974), Pirates of the Caribbean: The Curse of the Black Pearl (2003), Terminator 2: Judgment Day (1991), Raiders of the Lost Ark (1981), V for Vendetta (2006), American History X (1998), Eternal Sunshine of the Spotless Mind (2004), One Flew Over the Cuckoo's Nest (1975), Donnie Darko (2001), Back to the Future (1985), Star Wars: Episode VI - Return of the Jedi (1983), No Country for Old Men (2007), Transformers (2007), A Clockwork Orange (1971), Slumdog Millionaire (2008), Am\\xe9lie (2001), Die Hard (1988), The Terminator (1984), Blade Runner (1982), Snatch. (2000), Finding Nemo (2003), City of God (2002), District 9 (2009), Twelve Monkeys (1995), Casino Royale (2006), Aliens (1986), The Incredibles (2004), Toy Story (1995), L.A. Confidential (1997), Pan's Labyrinth (2006), Shrek (2001), The Hangover (2009), I Am Legend (2007), Full Metal Jacket (1987), The Bourne Ultimatum (2007), Jurassic Park (1993), Monty Python and the Holy Grail (1975), The Lion King (1994), Requiem for a Dream (2000), Kill Bill: Vol. 2 (2004), Star Wars: Episode I - The Phantom Menace (1999), The Shining (1980), The Big Lebowski (1998), Alien (1979), Iron Man (2008), Star Wars: Episode III - Revenge of the Sith (2005), Apocalypse Now (1979), Indiana Jones and the Last Crusade (1989), The Good, the Bad and the Ugly (1966), Crash (2004), The Truman Show (1998), Spider-Man (2002), Fargo (1996), Taxi Driver (1976), Children of Men (2006), 2001: A Space Odyssey (1968), Scarface (1983), Good Will Hunting (1997), Pirates of the Caribbean: Dead Man's Chest (2006), Star Wars: Episode II - Attack of the Clones (2002), Trainspotting (1996), Dr. Strangelove or: How I Learned to Stop Worrying and Love the Bomb (1964), Juno (2007), ...]</td>\n",
       "      <td>9998</td>\n",
       "      <td>NA</td>\n",
       "    </tr>\n",
       "    <tr>\n",
       "      <th>year</th>\n",
       "      <td>int64</td>\n",
       "      <td>0</td>\n",
       "      <td>[1994, 1999, 2010, 2009, 1993, 1980, 2005, 1995, 1991, 1997, 2003, 1990, 2006, 1992, 2008, 1972, 2001, 2002, 1977, 2000, 1998, 1974, 1981, 2004, 1975, 1985, 1983, 2007, 1971, 1988, 1984, 1982, 1986, 1987, 1979, 1989, 1966, 1996, 1976, 1968, 1964, 1960, 1957, 1954, 1973, 1959, 1958, 1978, 1962, 1967, 2011, 1963, 1969, 1950, 1952, 1965, 1970, 1961, 1951, 1953, 1956, 1955]</td>\n",
       "      <td>62</td>\n",
       "      <td>NA</td>\n",
       "    </tr>\n",
       "    <tr>\n",
       "      <th>score</th>\n",
       "      <td>float64</td>\n",
       "      <td>0</td>\n",
       "      <td>[9.2, 9.0, 8.8, 8.7, 8.9, 8.6, 8.1, 8.3, 7.4, 8.4, 8.2, 7.8, 8.5, 8.0, 7.2, 7.9, 7.1, 6.4, 7.3, 6.8, 6.6, 7.7, 6.5, 7.5, 7.6, 7.0, 5.4, 6.2, 5.9, 6.9, 5.5, 6.3, 5.8, 6.7, 6.1, 4.5, 3.5, 5.7, 5.1, 5.6, 6.0, 5.2, 4.9, 4.3, 4.7, 2.2, 2.5, 5.3, 4.8, 5.0, 2.4, 3.2, 1.7, 4.6, 2.6, 3.4, 4.0, 4.2, 3.6, 3.3, 2.3, 3.7, 4.4, 3.8, 1.8, 2.9, 2.0, 3.9, 4.1, 2.7, 1.5, 2.8, 3.1, 3.0, 1.6, 2.1, 1.9]</td>\n",
       "      <td>77</td>\n",
       "      <td>NA</td>\n",
       "    </tr>\n",
       "    <tr>\n",
       "      <th>votes</th>\n",
       "      <td>int64</td>\n",
       "      <td>0</td>\n",
       "      <td>[619479, 490065, 458173, 448114, 385149, 368994, 338332, 336855, 325888, 320105, 316613, 306624, 293081, 284245, 281446, 278210, 272983, 270728, 269328, 258396, 247390, 244568, 243660, 240995, 229364, 555122, 474189, 451263, 428791, 383113, 364211, 337198, 334107, 325663, 317912, 315448, 295014, 291169, 282758, 280590, 277941, 272272, 270082, 260298, 255503, 246756, 244444, 242129, 237275, 229119, 225495, 220634, 215732, 214352, 211834, 210220, 208975, 203841, 199917, 198635, 196696, 194834, 194734, 191778, 188939, 187115, 186080, 185372, 182689, 181922, 179718, 178311, 176437, 175723, 173970, 220783, 216272, 215280, 212988, 210701, 209880, 205891, 202734, 198861, 197347, 195238, 194749, 193505, 191150, 187498, 186983, 185689, 183207, 182189, 180850, 178312, 178266, 175993, 174723, 172477, ...]</td>\n",
       "      <td>7057</td>\n",
       "      <td>NA</td>\n",
       "    </tr>\n",
       "    <tr>\n",
       "      <th>runtime</th>\n",
       "      <td>object</td>\n",
       "      <td>0</td>\n",
       "      <td>[142 mins., 154 mins., 139 mins., 136 mins., 148 mins., 122 mins., 162 mins., 195 mins., 124 mins., 140 mins., 106 mins., 118 mins., 194 mins., 177 mins., 107 mins., 111 mins., 146 mins., 117 mins., 130 mins., 99 mins., 110 mins., 189 mins., 153 mins., 98 mins., 152 mins., 175 mins., 178 mins., 201 mins., 179 mins., 121 mins., 127 mins., 155 mins., 113 mins., 169 mins., 151 mins., 200 mins., 143 mins., 137 mins., 115 mins., 132 mins., 119 mins., 108 mins., 133 mins., 116 mins., 134 mins., 144 mins., 120 mins., 131 mins., 104 mins., 100 mins., 112 mins., 129 mins., 80 mins., 138 mins., 00 mins., 90 mins., 101 mins., 91 mins., 89 mins., 102 mins., 126 mins., 161 mins., 103 mins., 109 mins., 141 mins., 170 mins., 94 mins., 95 mins., 96 mins., 145 mins., 166 mins., 150 mins., 85 mins., 135 mins., 128 mins., 125 mins., 158 mins., 163 mins., 187 mins., 92 mins., 84 mins., 188 mins., 87 mins., 157 mins., 93 mins., 149 mins., 167 mins., 105 mins., 147 mins., 160 mins., 183 mins., 207 mins., 88 mins., 123 mins., 159 mins., 81 mins., 182 mins., 156 mins., 164 mins., 165 mins., ...]</td>\n",
       "      <td>162</td>\n",
       "      <td>NA</td>\n",
       "    </tr>\n",
       "    <tr>\n",
       "      <th>genres</th>\n",
       "      <td>object</td>\n",
       "      <td>1</td>\n",
       "      <td>[Crime|Drama, Crime|Thriller, Drama|Mystery|Thriller, Action|Adventure|Sci-Fi, Action|Adventure|Sci-Fi|Thriller, Comedy|Drama|Romance, Drama, Action|Adventure|Fantasy|Sci-Fi, Biography|Drama|History|War, Action|Adventure|Family|Sci-Fi, Action|Crime|Drama|Thriller, Crime|Mystery|Thriller, Adventure|Drama|History|Romance, Action|Biography|Drama|History|War, Action|Crime|Thriller, Biography|Crime|Drama|Thriller, Action|Fantasy|History|War, Crime|Drama|Thriller, Crime|Drama|Fantasy|Mystery, Adventure|Drama|War, Animation|Adventure|Family|Romance|Sci-Fi, Action|Adventure|Drama|Fantasy, Action|Adventure|Family|Fantasy|Sci-Fi, Crime|Drama|Mystery|Thriller, Action|Adventure|Drama, Action|Drama|History|War, Action|Adventure|Fantasy, Action|Sci-Fi|Thriller, Action|Adventure, Drama|Romance|Sci-Fi, Drama|Mystery|Sci-Fi, Adventure|Family|Sci-Fi, Crime|Drama|Sci-Fi, Crime|Drama|Romance|Thriller, Comedy|Fantasy|Romance, Action|Thriller, Action|Sci-Fi, Drama|Sci-Fi|Thriller, Animation|Adventure|Comedy|Family, Action|Drama|Sci-Fi|Thriller, Mystery|Sci-Fi|Thriller, Animation|Action|Adventure|Family|Fantasy, Animation|Adventure|Comedy|Family|Fantasy, Drama|Fantasy|Mystery, Comedy|Crime, Drama|War, Adventure|Comedy, Animation|Adventure|Comedy|Drama|Family|Musical, Drama|Horror|Mystery, Horror|Sci-Fi, Western, Comedy|Drama|Sci-Fi, Drama|Thriller, Adventure|Drama|Sci-Fi|Thriller, Adventure|Mystery|Sci-Fi, Comedy|Drama, Drama|Fantasy|Mystery|Romance, Animation|Comedy|Family|Fantasy, Biography|Drama|War, Thriller, Action|Drama|Fantasy|Thriller, Adventure|Family|Fantasy|Mystery, Action|Drama|Mystery|Sci-Fi|Thriller, Comedy, Horror|Mystery|Sci-Fi, Biography|Drama, Action|Comedy|Mystery, Action|Crime|Mystery|Thriller, Drama|Sport, Adventure|Comedy|Drama, Horror|Mystery|Thriller, Adventure|Drama|Fantasy, Biography|Comedy|Crime|Drama, Action|Crime|Fantasy|Thriller, Comedy|Drama|Fantasy|Romance, Animation|Adventure|Comedy|Drama|Family|Fantasy, Comedy|Horror, Action|Crime|Mystery|Sci-Fi|Thriller, Action|Drama|History|Romance, Action|Adventure|Drama|Sci-Fi|Thriller, Action|Adventure|Drama|Romance|Thriller, Drama|Mystery, Action|Adventure|Comedy, Adventure|Drama|Fantasy|Romance, Adventure|Drama|Thriller, Adventure|Comedy|Family|Fantasy|Romance, Crime|Horror|Mystery|Thriller, Adventure|Biography|Drama, Animation|Adventure|Comedy, Drama|Romance, Drama|Mystery|Sci-Fi|Thriller, Action|Drama|War, Animation|Adventure|Family|Fantasy, Action|Adventure|Drama|History|War, Adventure|Drama, Horror|Sci-Fi|Thriller, Drama|Romance|Sport, Adventure|Drama|Family|Fantasy|Sci-Fi, Action|Adventure|Comedy|Sci-Fi, Mystery|Romance|Thriller, ...]</td>\n",
       "      <td>1644</td>\n",
       "      <td>NA</td>\n",
       "    </tr>\n",
       "  </tbody>\n",
       "</table>"
      ],
      "text/plain": [
       "<IPython.core.display.HTML object>"
      ]
     },
     "metadata": {},
     "output_type": "display_data"
    }
   ],
   "source": [
    "tbl_report(data)"
   ]
  },
  {
   "cell_type": "markdown",
   "metadata": {},
   "source": [
    "There are several problems with the DataFrame at this point:\n",
    "\n",
    "1. The runtime column describes a number, but is stored as a string\n",
    "2. The genres column is not atomic -- it aggregates several genres together. This makes it hard, for example, to extract which movies are Comedies. Also there is one row for which the genre is null\n",
    "3. The movie year is repeated in the title and year column: repetition is bad!"
   ]
  },
  {
   "cell_type": "markdown",
   "metadata": {},
   "source": [
    "### Handling the `null` in the genres"
   ]
  },
  {
   "cell_type": "code",
   "execution_count": 9,
   "metadata": {},
   "outputs": [
    {
     "data": {
      "text/html": [
       "<div>\n",
       "<style scoped>\n",
       "    .dataframe tbody tr th:only-of-type {\n",
       "        vertical-align: middle;\n",
       "    }\n",
       "\n",
       "    .dataframe tbody tr th {\n",
       "        vertical-align: top;\n",
       "    }\n",
       "\n",
       "    .dataframe thead th {\n",
       "        text-align: right;\n",
       "    }\n",
       "</style>\n",
       "<table border=\"1\" class=\"dataframe\">\n",
       "  <thead>\n",
       "    <tr style=\"text-align: right;\">\n",
       "      <th></th>\n",
       "      <th>imdbID</th>\n",
       "      <th>title</th>\n",
       "      <th>year</th>\n",
       "      <th>score</th>\n",
       "      <th>votes</th>\n",
       "      <th>runtime</th>\n",
       "      <th>genres</th>\n",
       "    </tr>\n",
       "  </thead>\n",
       "  <tbody>\n",
       "    <tr>\n",
       "      <th>7917</th>\n",
       "      <td>tt0990404</td>\n",
       "      <td>Chop Shop (2007)</td>\n",
       "      <td>2007</td>\n",
       "      <td>7.2</td>\n",
       "      <td>2104</td>\n",
       "      <td>84 mins.</td>\n",
       "      <td>NaN</td>\n",
       "    </tr>\n",
       "  </tbody>\n",
       "</table>\n",
       "</div>"
      ],
      "text/plain": [
       "         imdbID             title  year  score  votes   runtime genres\n",
       "7917  tt0990404  Chop Shop (2007)  2007    7.2   2104  84 mins.    NaN"
      ]
     },
     "execution_count": 9,
     "metadata": {},
     "output_type": "execute_result"
    }
   ],
   "source": [
    "data[data.genres.isnull()]"
   ]
  },
  {
   "cell_type": "markdown",
   "metadata": {},
   "source": [
    "Why is the genres column a null for Chop Shop? Lets look in the file:"
   ]
  },
  {
   "cell_type": "code",
   "execution_count": 10,
   "metadata": {},
   "outputs": [
    {
     "name": "stdout",
     "output_type": "stream",
     "text": [
      "tt0990404\tChop Shop (2007)\t2007\t 7.2\t2104\t84 mins.\t\n"
     ]
    }
   ],
   "source": [
    "!grep 'Chop Shop' data/imdb_top_10000.txt"
   ]
  },
  {
   "cell_type": "markdown",
   "metadata": {},
   "source": [
    "It is because no genres were recorded for it. At this point we have some choices. We can\n",
    "\n",
    "1. Remove it from the data set\n",
    "2. Let it be without genres and handle in further post-processing\n",
    "3. Perhaps this was a mistake in scraping and we can go to the IMDB page for more information\n",
    "\n",
    "Here we will opt for choice 2 and leave the null in our data set."
   ]
  },
  {
   "cell_type": "markdown",
   "metadata": {},
   "source": [
    "In general, `null` in columns can come from multiple places. Firstly, that data may not have been taken in some cases. If this is a fatal error for us, we must remove those rows.\n",
    "\n",
    "If the lack of information there is an important signal, we leave the null in there and treat it as a category.\n",
    "\n",
    "Otherwise we can impute this value from the median value of the column (or in other ways) and make a note in an accompanying column that we made an imputation."
   ]
  },
  {
   "cell_type": "markdown",
   "metadata": {},
   "source": [
    "### Fixing the runtime column\n",
    "\n",
    "The following snipptet converts a string like '142 mins.' to the number 142:"
   ]
  },
  {
   "cell_type": "code",
   "execution_count": 11,
   "metadata": {
    "collapsed": false,
    "jupyter": {
     "outputs_hidden": false
    }
   },
   "outputs": [
    {
     "data": {
      "text/plain": [
       "('142', 142)"
      ]
     },
     "execution_count": 11,
     "metadata": {},
     "output_type": "execute_result"
    }
   ],
   "source": [
    "dirty = '142 mins.'\n",
    "number, text = dirty.split(' ')\n",
    "clean = int(number)\n",
    "number, clean"
   ]
  },
  {
   "cell_type": "markdown",
   "metadata": {},
   "source": [
    "We can package this up into a list comprehension"
   ]
  },
  {
   "cell_type": "code",
   "execution_count": 12,
   "metadata": {},
   "outputs": [
    {
     "data": {
      "text/html": [
       "<div>\n",
       "<style scoped>\n",
       "    .dataframe tbody tr th:only-of-type {\n",
       "        vertical-align: middle;\n",
       "    }\n",
       "\n",
       "    .dataframe tbody tr th {\n",
       "        vertical-align: top;\n",
       "    }\n",
       "\n",
       "    .dataframe thead th {\n",
       "        text-align: right;\n",
       "    }\n",
       "</style>\n",
       "<table border=\"1\" class=\"dataframe\">\n",
       "  <thead>\n",
       "    <tr style=\"text-align: right;\">\n",
       "      <th></th>\n",
       "      <th>imdbID</th>\n",
       "      <th>title</th>\n",
       "      <th>year</th>\n",
       "      <th>score</th>\n",
       "      <th>votes</th>\n",
       "      <th>runtime</th>\n",
       "      <th>genres</th>\n",
       "    </tr>\n",
       "  </thead>\n",
       "  <tbody>\n",
       "    <tr>\n",
       "      <th>0</th>\n",
       "      <td>tt0111161</td>\n",
       "      <td>The Shawshank Redemption (1994)</td>\n",
       "      <td>1994</td>\n",
       "      <td>9.2</td>\n",
       "      <td>619479</td>\n",
       "      <td>142.0</td>\n",
       "      <td>Crime|Drama</td>\n",
       "    </tr>\n",
       "    <tr>\n",
       "      <th>1</th>\n",
       "      <td>tt0110912</td>\n",
       "      <td>Pulp Fiction (1994)</td>\n",
       "      <td>1994</td>\n",
       "      <td>9.0</td>\n",
       "      <td>490065</td>\n",
       "      <td>154.0</td>\n",
       "      <td>Crime|Thriller</td>\n",
       "    </tr>\n",
       "    <tr>\n",
       "      <th>2</th>\n",
       "      <td>tt0137523</td>\n",
       "      <td>Fight Club (1999)</td>\n",
       "      <td>1999</td>\n",
       "      <td>8.8</td>\n",
       "      <td>458173</td>\n",
       "      <td>139.0</td>\n",
       "      <td>Drama|Mystery|Thriller</td>\n",
       "    </tr>\n",
       "    <tr>\n",
       "      <th>3</th>\n",
       "      <td>tt0133093</td>\n",
       "      <td>The Matrix (1999)</td>\n",
       "      <td>1999</td>\n",
       "      <td>8.7</td>\n",
       "      <td>448114</td>\n",
       "      <td>136.0</td>\n",
       "      <td>Action|Adventure|Sci-Fi</td>\n",
       "    </tr>\n",
       "    <tr>\n",
       "      <th>4</th>\n",
       "      <td>tt1375666</td>\n",
       "      <td>Inception (2010)</td>\n",
       "      <td>2010</td>\n",
       "      <td>8.9</td>\n",
       "      <td>385149</td>\n",
       "      <td>148.0</td>\n",
       "      <td>Action|Adventure|Sci-Fi|Thriller</td>\n",
       "    </tr>\n",
       "  </tbody>\n",
       "</table>\n",
       "</div>"
      ],
      "text/plain": [
       "      imdbID                            title  year  score   votes  runtime  \\\n",
       "0  tt0111161  The Shawshank Redemption (1994)  1994    9.2  619479    142.0   \n",
       "1  tt0110912              Pulp Fiction (1994)  1994    9.0  490065    154.0   \n",
       "2  tt0137523                Fight Club (1999)  1999    8.8  458173    139.0   \n",
       "3  tt0133093                The Matrix (1999)  1999    8.7  448114    136.0   \n",
       "4  tt1375666                 Inception (2010)  2010    8.9  385149    148.0   \n",
       "\n",
       "                             genres  \n",
       "0                       Crime|Drama  \n",
       "1                    Crime|Thriller  \n",
       "2            Drama|Mystery|Thriller  \n",
       "3           Action|Adventure|Sci-Fi  \n",
       "4  Action|Adventure|Sci-Fi|Thriller  "
      ]
     },
     "execution_count": 12,
     "metadata": {},
     "output_type": "execute_result"
    }
   ],
   "source": [
    "clean_runtime = [float(r.split(' ')[0]) for r in data.runtime]\n",
    "data['runtime'] = clean_runtime\n",
    "data.head()"
   ]
  },
  {
   "cell_type": "markdown",
   "metadata": {},
   "source": [
    "Now the `runtime` column is fixed."
   ]
  },
  {
   "cell_type": "code",
   "execution_count": 13,
   "metadata": {},
   "outputs": [
    {
     "data": {
      "text/plain": [
       "imdbID      object\n",
       "title       object\n",
       "year         int64\n",
       "score      float64\n",
       "votes        int64\n",
       "runtime    float64\n",
       "genres      object\n",
       "dtype: object"
      ]
     },
     "execution_count": 13,
     "metadata": {},
     "output_type": "execute_result"
    }
   ],
   "source": [
    "data.dtypes"
   ]
  },
  {
   "cell_type": "markdown",
   "metadata": {},
   "source": [
    "### Removing year from the title\n",
    "We can fix each element by stripping off the last 7 characters"
   ]
  },
  {
   "cell_type": "code",
   "execution_count": 14,
   "metadata": {
    "collapsed": false,
    "jupyter": {
     "outputs_hidden": false
    }
   },
   "outputs": [
    {
     "data": {
      "text/html": [
       "<div>\n",
       "<style scoped>\n",
       "    .dataframe tbody tr th:only-of-type {\n",
       "        vertical-align: middle;\n",
       "    }\n",
       "\n",
       "    .dataframe tbody tr th {\n",
       "        vertical-align: top;\n",
       "    }\n",
       "\n",
       "    .dataframe thead th {\n",
       "        text-align: right;\n",
       "    }\n",
       "</style>\n",
       "<table border=\"1\" class=\"dataframe\">\n",
       "  <thead>\n",
       "    <tr style=\"text-align: right;\">\n",
       "      <th></th>\n",
       "      <th>imdbID</th>\n",
       "      <th>title</th>\n",
       "      <th>year</th>\n",
       "      <th>score</th>\n",
       "      <th>votes</th>\n",
       "      <th>runtime</th>\n",
       "      <th>genres</th>\n",
       "    </tr>\n",
       "  </thead>\n",
       "  <tbody>\n",
       "    <tr>\n",
       "      <th>0</th>\n",
       "      <td>tt0111161</td>\n",
       "      <td>The Shawshank Redemption</td>\n",
       "      <td>1994</td>\n",
       "      <td>9.2</td>\n",
       "      <td>619479</td>\n",
       "      <td>142.0</td>\n",
       "      <td>Crime|Drama</td>\n",
       "    </tr>\n",
       "    <tr>\n",
       "      <th>1</th>\n",
       "      <td>tt0110912</td>\n",
       "      <td>Pulp Fiction</td>\n",
       "      <td>1994</td>\n",
       "      <td>9.0</td>\n",
       "      <td>490065</td>\n",
       "      <td>154.0</td>\n",
       "      <td>Crime|Thriller</td>\n",
       "    </tr>\n",
       "    <tr>\n",
       "      <th>2</th>\n",
       "      <td>tt0137523</td>\n",
       "      <td>Fight Club</td>\n",
       "      <td>1999</td>\n",
       "      <td>8.8</td>\n",
       "      <td>458173</td>\n",
       "      <td>139.0</td>\n",
       "      <td>Drama|Mystery|Thriller</td>\n",
       "    </tr>\n",
       "    <tr>\n",
       "      <th>3</th>\n",
       "      <td>tt0133093</td>\n",
       "      <td>The Matrix</td>\n",
       "      <td>1999</td>\n",
       "      <td>8.7</td>\n",
       "      <td>448114</td>\n",
       "      <td>136.0</td>\n",
       "      <td>Action|Adventure|Sci-Fi</td>\n",
       "    </tr>\n",
       "    <tr>\n",
       "      <th>4</th>\n",
       "      <td>tt1375666</td>\n",
       "      <td>Inception</td>\n",
       "      <td>2010</td>\n",
       "      <td>8.9</td>\n",
       "      <td>385149</td>\n",
       "      <td>148.0</td>\n",
       "      <td>Action|Adventure|Sci-Fi|Thriller</td>\n",
       "    </tr>\n",
       "  </tbody>\n",
       "</table>\n",
       "</div>"
      ],
      "text/plain": [
       "      imdbID                     title  year  score   votes  runtime  \\\n",
       "0  tt0111161  The Shawshank Redemption  1994    9.2  619479    142.0   \n",
       "1  tt0110912              Pulp Fiction  1994    9.0  490065    154.0   \n",
       "2  tt0137523                Fight Club  1999    8.8  458173    139.0   \n",
       "3  tt0133093                The Matrix  1999    8.7  448114    136.0   \n",
       "4  tt1375666                 Inception  2010    8.9  385149    148.0   \n",
       "\n",
       "                             genres  \n",
       "0                       Crime|Drama  \n",
       "1                    Crime|Thriller  \n",
       "2            Drama|Mystery|Thriller  \n",
       "3           Action|Adventure|Sci-Fi  \n",
       "4  Action|Adventure|Sci-Fi|Thriller  "
      ]
     },
     "execution_count": 14,
     "metadata": {},
     "output_type": "execute_result"
    }
   ],
   "source": [
    "data['title'] = [t[0:-7] for t in data.title]\n",
    "data.head()"
   ]
  },
  {
   "cell_type": "markdown",
   "metadata": {},
   "source": [
    "### Splitting up the genres: Multi-Categorization"
   ]
  },
  {
   "cell_type": "markdown",
   "metadata": {},
   "source": [
    "We can use the concept of *indicator variables* to split the genres column into many columns. Each new column will correspond to a single genre, and each cell will be True or False."
   ]
  },
  {
   "cell_type": "code",
   "execution_count": 16,
   "metadata": {
    "collapsed": false,
    "jupyter": {
     "outputs_hidden": false
    }
   },
   "outputs": [
    {
     "data": {
      "text/html": [
       "<div>\n",
       "<style scoped>\n",
       "    .dataframe tbody tr th:only-of-type {\n",
       "        vertical-align: middle;\n",
       "    }\n",
       "\n",
       "    .dataframe tbody tr th {\n",
       "        vertical-align: top;\n",
       "    }\n",
       "\n",
       "    .dataframe thead th {\n",
       "        text-align: right;\n",
       "    }\n",
       "</style>\n",
       "<table border=\"1\" class=\"dataframe\">\n",
       "  <thead>\n",
       "    <tr style=\"text-align: right;\">\n",
       "      <th></th>\n",
       "      <th>imdbID</th>\n",
       "      <th>title</th>\n",
       "      <th>year</th>\n",
       "      <th>score</th>\n",
       "      <th>votes</th>\n",
       "      <th>runtime</th>\n",
       "      <th>genres</th>\n",
       "      <th>genre:Action</th>\n",
       "      <th>genre:Adult</th>\n",
       "      <th>genre:Adventure</th>\n",
       "      <th>...</th>\n",
       "      <th>genre:Musical</th>\n",
       "      <th>genre:Mystery</th>\n",
       "      <th>genre:News</th>\n",
       "      <th>genre:Reality-TV</th>\n",
       "      <th>genre:Romance</th>\n",
       "      <th>genre:Sci-Fi</th>\n",
       "      <th>genre:Sport</th>\n",
       "      <th>genre:Thriller</th>\n",
       "      <th>genre:War</th>\n",
       "      <th>genre:Western</th>\n",
       "    </tr>\n",
       "  </thead>\n",
       "  <tbody>\n",
       "    <tr>\n",
       "      <th>0</th>\n",
       "      <td>tt0111161</td>\n",
       "      <td>The Shawshank Redemption</td>\n",
       "      <td>1994</td>\n",
       "      <td>9.2</td>\n",
       "      <td>619479</td>\n",
       "      <td>142.0</td>\n",
       "      <td>Crime|Drama</td>\n",
       "      <td>False</td>\n",
       "      <td>False</td>\n",
       "      <td>False</td>\n",
       "      <td>...</td>\n",
       "      <td>False</td>\n",
       "      <td>False</td>\n",
       "      <td>False</td>\n",
       "      <td>False</td>\n",
       "      <td>False</td>\n",
       "      <td>False</td>\n",
       "      <td>False</td>\n",
       "      <td>False</td>\n",
       "      <td>False</td>\n",
       "      <td>False</td>\n",
       "    </tr>\n",
       "    <tr>\n",
       "      <th>1</th>\n",
       "      <td>tt0110912</td>\n",
       "      <td>Pulp Fiction</td>\n",
       "      <td>1994</td>\n",
       "      <td>9.0</td>\n",
       "      <td>490065</td>\n",
       "      <td>154.0</td>\n",
       "      <td>Crime|Thriller</td>\n",
       "      <td>False</td>\n",
       "      <td>False</td>\n",
       "      <td>False</td>\n",
       "      <td>...</td>\n",
       "      <td>False</td>\n",
       "      <td>False</td>\n",
       "      <td>False</td>\n",
       "      <td>False</td>\n",
       "      <td>False</td>\n",
       "      <td>False</td>\n",
       "      <td>False</td>\n",
       "      <td>True</td>\n",
       "      <td>False</td>\n",
       "      <td>False</td>\n",
       "    </tr>\n",
       "    <tr>\n",
       "      <th>2</th>\n",
       "      <td>tt0137523</td>\n",
       "      <td>Fight Club</td>\n",
       "      <td>1999</td>\n",
       "      <td>8.8</td>\n",
       "      <td>458173</td>\n",
       "      <td>139.0</td>\n",
       "      <td>Drama|Mystery|Thriller</td>\n",
       "      <td>False</td>\n",
       "      <td>False</td>\n",
       "      <td>False</td>\n",
       "      <td>...</td>\n",
       "      <td>False</td>\n",
       "      <td>True</td>\n",
       "      <td>False</td>\n",
       "      <td>False</td>\n",
       "      <td>False</td>\n",
       "      <td>False</td>\n",
       "      <td>False</td>\n",
       "      <td>True</td>\n",
       "      <td>False</td>\n",
       "      <td>False</td>\n",
       "    </tr>\n",
       "    <tr>\n",
       "      <th>3</th>\n",
       "      <td>tt0133093</td>\n",
       "      <td>The Matrix</td>\n",
       "      <td>1999</td>\n",
       "      <td>8.7</td>\n",
       "      <td>448114</td>\n",
       "      <td>136.0</td>\n",
       "      <td>Action|Adventure|Sci-Fi</td>\n",
       "      <td>True</td>\n",
       "      <td>False</td>\n",
       "      <td>True</td>\n",
       "      <td>...</td>\n",
       "      <td>False</td>\n",
       "      <td>False</td>\n",
       "      <td>False</td>\n",
       "      <td>False</td>\n",
       "      <td>False</td>\n",
       "      <td>True</td>\n",
       "      <td>False</td>\n",
       "      <td>False</td>\n",
       "      <td>False</td>\n",
       "      <td>False</td>\n",
       "    </tr>\n",
       "    <tr>\n",
       "      <th>4</th>\n",
       "      <td>tt1375666</td>\n",
       "      <td>Inception</td>\n",
       "      <td>2010</td>\n",
       "      <td>8.9</td>\n",
       "      <td>385149</td>\n",
       "      <td>148.0</td>\n",
       "      <td>Action|Adventure|Sci-Fi|Thriller</td>\n",
       "      <td>True</td>\n",
       "      <td>False</td>\n",
       "      <td>True</td>\n",
       "      <td>...</td>\n",
       "      <td>False</td>\n",
       "      <td>False</td>\n",
       "      <td>False</td>\n",
       "      <td>False</td>\n",
       "      <td>False</td>\n",
       "      <td>True</td>\n",
       "      <td>False</td>\n",
       "      <td>True</td>\n",
       "      <td>False</td>\n",
       "      <td>False</td>\n",
       "    </tr>\n",
       "  </tbody>\n",
       "</table>\n",
       "<p>5 rows × 31 columns</p>\n",
       "</div>"
      ],
      "text/plain": [
       "      imdbID                     title  year  score   votes  runtime  \\\n",
       "0  tt0111161  The Shawshank Redemption  1994    9.2  619479    142.0   \n",
       "1  tt0110912              Pulp Fiction  1994    9.0  490065    154.0   \n",
       "2  tt0137523                Fight Club  1999    8.8  458173    139.0   \n",
       "3  tt0133093                The Matrix  1999    8.7  448114    136.0   \n",
       "4  tt1375666                 Inception  2010    8.9  385149    148.0   \n",
       "\n",
       "                             genres  genre:Action  genre:Adult  \\\n",
       "0                       Crime|Drama         False        False   \n",
       "1                    Crime|Thriller         False        False   \n",
       "2            Drama|Mystery|Thriller         False        False   \n",
       "3           Action|Adventure|Sci-Fi          True        False   \n",
       "4  Action|Adventure|Sci-Fi|Thriller          True        False   \n",
       "\n",
       "   genre:Adventure  ...  genre:Musical  genre:Mystery  genre:News  \\\n",
       "0            False  ...          False          False       False   \n",
       "1            False  ...          False          False       False   \n",
       "2            False  ...          False           True       False   \n",
       "3             True  ...          False          False       False   \n",
       "4             True  ...          False          False       False   \n",
       "\n",
       "   genre:Reality-TV  genre:Romance  genre:Sci-Fi  genre:Sport  genre:Thriller  \\\n",
       "0             False          False         False        False           False   \n",
       "1             False          False         False        False            True   \n",
       "2             False          False         False        False            True   \n",
       "3             False          False          True        False           False   \n",
       "4             False          False          True        False            True   \n",
       "\n",
       "   genre:War  genre:Western  \n",
       "0      False          False  \n",
       "1      False          False  \n",
       "2      False          False  \n",
       "3      False          False  \n",
       "4      False          False  \n",
       "\n",
       "[5 rows x 31 columns]"
      ]
     },
     "execution_count": 16,
     "metadata": {},
     "output_type": "execute_result"
    }
   ],
   "source": [
    "#determine the unique genres\n",
    "import types\n",
    "genres = set()\n",
    "notnulls = pd.notnull(data.genres)\n",
    "for m, nn in zip(data.genres, notnulls):\n",
    "    if nn: # not a NaN\n",
    "        genres.update(g for g in m.split('|'))\n",
    "    # Otherwise empty: see Chop Shop\n",
    "genres = sorted(genres)\n",
    "\n",
    "#make a column for each genre\n",
    "for genre in genres:\n",
    "    data['genre:'+genre] = [genre in movie.split('|') if nn else False for movie, nn in zip(data.genres, notnulls)]\n",
    "         \n",
    "data.head()"
   ]
  },
  {
   "cell_type": "code",
   "execution_count": 17,
   "metadata": {},
   "outputs": [
    {
     "data": {
      "text/html": [
       "<div>\n",
       "<style scoped>\n",
       "    .dataframe tbody tr th:only-of-type {\n",
       "        vertical-align: middle;\n",
       "    }\n",
       "\n",
       "    .dataframe tbody tr th {\n",
       "        vertical-align: top;\n",
       "    }\n",
       "\n",
       "    .dataframe thead th {\n",
       "        text-align: right;\n",
       "    }\n",
       "</style>\n",
       "<table border=\"1\" class=\"dataframe\">\n",
       "  <thead>\n",
       "    <tr style=\"text-align: right;\">\n",
       "      <th></th>\n",
       "      <th>imdbID</th>\n",
       "      <th>title</th>\n",
       "      <th>year</th>\n",
       "      <th>score</th>\n",
       "      <th>votes</th>\n",
       "      <th>runtime</th>\n",
       "      <th>genres</th>\n",
       "      <th>genre:Action</th>\n",
       "      <th>genre:Adult</th>\n",
       "      <th>genre:Adventure</th>\n",
       "      <th>...</th>\n",
       "      <th>genre:Musical</th>\n",
       "      <th>genre:Mystery</th>\n",
       "      <th>genre:News</th>\n",
       "      <th>genre:Reality-TV</th>\n",
       "      <th>genre:Romance</th>\n",
       "      <th>genre:Sci-Fi</th>\n",
       "      <th>genre:Sport</th>\n",
       "      <th>genre:Thriller</th>\n",
       "      <th>genre:War</th>\n",
       "      <th>genre:Western</th>\n",
       "    </tr>\n",
       "  </thead>\n",
       "  <tbody>\n",
       "    <tr>\n",
       "      <th>7917</th>\n",
       "      <td>tt0990404</td>\n",
       "      <td>Chop Shop</td>\n",
       "      <td>2007</td>\n",
       "      <td>7.2</td>\n",
       "      <td>2104</td>\n",
       "      <td>84.0</td>\n",
       "      <td>NaN</td>\n",
       "      <td>False</td>\n",
       "      <td>False</td>\n",
       "      <td>False</td>\n",
       "      <td>...</td>\n",
       "      <td>False</td>\n",
       "      <td>False</td>\n",
       "      <td>False</td>\n",
       "      <td>False</td>\n",
       "      <td>False</td>\n",
       "      <td>False</td>\n",
       "      <td>False</td>\n",
       "      <td>False</td>\n",
       "      <td>False</td>\n",
       "      <td>False</td>\n",
       "    </tr>\n",
       "  </tbody>\n",
       "</table>\n",
       "<p>1 rows × 31 columns</p>\n",
       "</div>"
      ],
      "text/plain": [
       "         imdbID      title  year  score  votes  runtime genres  genre:Action  \\\n",
       "7917  tt0990404  Chop Shop  2007    7.2   2104     84.0    NaN         False   \n",
       "\n",
       "      genre:Adult  genre:Adventure  ...  genre:Musical  genre:Mystery  \\\n",
       "7917        False            False  ...          False          False   \n",
       "\n",
       "      genre:News  genre:Reality-TV  genre:Romance  genre:Sci-Fi  genre:Sport  \\\n",
       "7917       False             False          False         False        False   \n",
       "\n",
       "      genre:Thriller  genre:War  genre:Western  \n",
       "7917           False      False          False  \n",
       "\n",
       "[1 rows x 31 columns]"
      ]
     },
     "execution_count": 17,
     "metadata": {},
     "output_type": "execute_result"
    }
   ],
   "source": [
    "data[data.title=='Chop Shop']"
   ]
  },
  {
   "cell_type": "code",
   "execution_count": 18,
   "metadata": {},
   "outputs": [
    {
     "data": {
      "text/plain": [
       "imdbID               object\n",
       "title                object\n",
       "year                  int64\n",
       "score               float64\n",
       "votes                 int64\n",
       "runtime             float64\n",
       "genres               object\n",
       "genre:Action           bool\n",
       "genre:Adult            bool\n",
       "genre:Adventure        bool\n",
       "genre:Animation        bool\n",
       "genre:Biography        bool\n",
       "genre:Comedy           bool\n",
       "genre:Crime            bool\n",
       "genre:Drama            bool\n",
       "genre:Family           bool\n",
       "genre:Fantasy          bool\n",
       "genre:Film-Noir        bool\n",
       "genre:History          bool\n",
       "genre:Horror           bool\n",
       "genre:Music            bool\n",
       "genre:Musical          bool\n",
       "genre:Mystery          bool\n",
       "genre:News             bool\n",
       "genre:Reality-TV       bool\n",
       "genre:Romance          bool\n",
       "genre:Sci-Fi           bool\n",
       "genre:Sport            bool\n",
       "genre:Thriller         bool\n",
       "genre:War              bool\n",
       "genre:Western          bool\n",
       "dtype: object"
      ]
     },
     "execution_count": 18,
     "metadata": {},
     "output_type": "execute_result"
    }
   ],
   "source": [
    "data.dtypes"
   ]
  },
  {
   "cell_type": "code",
   "execution_count": 19,
   "metadata": {},
   "outputs": [
    {
     "name": "stdout",
     "output_type": "stream",
     "text": [
      "Table Shape (10000, 31)\n"
     ]
    },
    {
     "data": {
      "text/html": [
       "<table border=\"1\" class=\"dataframe\">\n",
       "  <thead>\n",
       "    <tr style=\"text-align: right;\">\n",
       "      <th></th>\n",
       "      <th>dtype</th>\n",
       "      <th>nulls</th>\n",
       "      <th>uniques</th>\n",
       "      <th>num_uniques</th>\n",
       "      <th>value_counts</th>\n",
       "    </tr>\n",
       "  </thead>\n",
       "  <tbody>\n",
       "    <tr>\n",
       "      <th>imdbID</th>\n",
       "      <td>object</td>\n",
       "      <td>0</td>\n",
       "      <td>[tt0111161, tt0110912, tt0137523, tt0133093, tt1375666, tt0109830, tt0169547, tt0499549, tt0108052, tt0080684, tt0372784, tt0114814, tt0102926, tt0120338, tt0112573, tt0167404, tt0266697, tt0099685, tt0416449, tt0482571, tt0105236, tt0110413, tt0120689, tt0361748, tt0910970, tt0468569, tt0068646, tt0120737, tt0167260, tt0167261, tt0076759, tt0114369, tt0172495, tt0209144, tt0120815, tt0407887, tt0401792, tt0071562, tt0325980, tt0103064, tt0082971, tt0434409, tt0120586, tt0338013, tt0073486, tt0246578, tt0088763, tt0086190, tt0477348, tt0418279, tt0066921, tt1010048, tt0211915, tt0095016, tt0088247, tt0083658, tt0208092, tt0266543, tt0317248, tt1136608, tt0114746, tt0381061, tt0090605, tt0317705, tt0114709, tt0119488, tt0457430, tt0126029, tt1119646, tt0480249, tt0093058, tt0440963, tt0107290, tt0071853, tt0110357, tt0180093, tt0378194, tt0120915, tt0081505, tt0118715, tt0078748, tt0371746, tt0121766, tt0078788, tt0097576, tt0060196, tt0375679, tt0120382, tt0145487, tt0116282, tt0075314, tt0206634, tt0062622, tt0086250, tt0119217, tt0383574, tt0121765, tt0117951, tt0057012, tt0467406, ...]</td>\n",
       "      <td>10000</td>\n",
       "      <td>NA</td>\n",
       "    </tr>\n",
       "    <tr>\n",
       "      <th>title</th>\n",
       "      <td>object</td>\n",
       "      <td>0</td>\n",
       "      <td>[The Shawshank Redemption, Pulp Fiction, Fight Club, The Matrix, Inception, Forrest Gump, American Beauty, Avatar, Schindler's List, Star Wars: Episode V - The Empire Strikes Back, Batman Begins, The Usual Suspects, The Silence of the Lambs, Titanic, Braveheart, The Sixth Sense, Kill Bill: Vol. 1, Goodfellas, 300, The Prestige, Reservoir Dogs, Leon: The Professional, The Green Mile, Inglourious Basterds, WALL\\xb7E, The Dark Knight, The Godfather, The Lord of the Rings: The Fellowship of the Ring, The Lord of the Rings: The Return of the King, The Lord of the Rings: The Two Towers, Star Wars: Episode IV - A New Hope, Se7en, Gladiator, Memento, Saving Private Ryan, The Departed, Sin City, The Godfather: Part II, Pirates of the Caribbean: The Curse of the Black Pearl, Terminator 2: Judgment Day, Raiders of the Lost Ark, V for Vendetta, American History X, Eternal Sunshine of the Spotless Mind, One Flew Over the Cuckoo's Nest, Donnie Darko, Back to the Future, Star Wars: Episode VI - Return of the Jedi, No Country for Old Men, Transformers, A Clockwork Orange, Slumdog Millionaire, Am\\xe9lie, Die Hard, The Terminator, Blade Runner, Snatch., Finding Nemo, City of God, District 9, Twelve Monkeys, Casino Royale, Aliens, The Incredibles, Toy Story, L.A. Confidential, Pan's Labyrinth, Shrek, The Hangover, I Am Legend, Full Metal Jacket, The Bourne Ultimatum, Jurassic Park, Monty Python and the Holy Grail, The Lion King, Requiem for a Dream, Kill Bill: Vol. 2, Star Wars: Episode I - The Phantom Menace, The Shining, The Big Lebowski, Alien, Iron Man, Star Wars: Episode III - Revenge of the Sith, Apocalypse Now, Indiana Jones and the Last Crusade, The Good, the Bad and the Ugly, Crash, The Truman Show, Spider-Man, Fargo, Taxi Driver, Children of Men, 2001: A Space Odyssey, Scarface, Good Will Hunting, Pirates of the Caribbean: Dead Man's Chest, Star Wars: Episode II - Attack of the Clones, Trainspotting, Dr. Strangelove or: How I Learned to Stop Worrying and Love the Bomb, Juno, ...]</td>\n",
       "      <td>9739</td>\n",
       "      <td>NA</td>\n",
       "    </tr>\n",
       "    <tr>\n",
       "      <th>year</th>\n",
       "      <td>int64</td>\n",
       "      <td>0</td>\n",
       "      <td>[1994, 1999, 2010, 2009, 1993, 1980, 2005, 1995, 1991, 1997, 2003, 1990, 2006, 1992, 2008, 1972, 2001, 2002, 1977, 2000, 1998, 1974, 1981, 2004, 1975, 1985, 1983, 2007, 1971, 1988, 1984, 1982, 1986, 1987, 1979, 1989, 1966, 1996, 1976, 1968, 1964, 1960, 1957, 1954, 1973, 1959, 1958, 1978, 1962, 1967, 2011, 1963, 1969, 1950, 1952, 1965, 1970, 1961, 1951, 1953, 1956, 1955]</td>\n",
       "      <td>62</td>\n",
       "      <td>NA</td>\n",
       "    </tr>\n",
       "    <tr>\n",
       "      <th>score</th>\n",
       "      <td>float64</td>\n",
       "      <td>0</td>\n",
       "      <td>[9.2, 9.0, 8.8, 8.7, 8.9, 8.6, 8.1, 8.3, 7.4, 8.4, 8.2, 7.8, 8.5, 8.0, 7.2, 7.9, 7.1, 6.4, 7.3, 6.8, 6.6, 7.7, 6.5, 7.5, 7.6, 7.0, 5.4, 6.2, 5.9, 6.9, 5.5, 6.3, 5.8, 6.7, 6.1, 4.5, 3.5, 5.7, 5.1, 5.6, 6.0, 5.2, 4.9, 4.3, 4.7, 2.2, 2.5, 5.3, 4.8, 5.0, 2.4, 3.2, 1.7, 4.6, 2.6, 3.4, 4.0, 4.2, 3.6, 3.3, 2.3, 3.7, 4.4, 3.8, 1.8, 2.9, 2.0, 3.9, 4.1, 2.7, 1.5, 2.8, 3.1, 3.0, 1.6, 2.1, 1.9]</td>\n",
       "      <td>77</td>\n",
       "      <td>NA</td>\n",
       "    </tr>\n",
       "    <tr>\n",
       "      <th>votes</th>\n",
       "      <td>int64</td>\n",
       "      <td>0</td>\n",
       "      <td>[619479, 490065, 458173, 448114, 385149, 368994, 338332, 336855, 325888, 320105, 316613, 306624, 293081, 284245, 281446, 278210, 272983, 270728, 269328, 258396, 247390, 244568, 243660, 240995, 229364, 555122, 474189, 451263, 428791, 383113, 364211, 337198, 334107, 325663, 317912, 315448, 295014, 291169, 282758, 280590, 277941, 272272, 270082, 260298, 255503, 246756, 244444, 242129, 237275, 229119, 225495, 220634, 215732, 214352, 211834, 210220, 208975, 203841, 199917, 198635, 196696, 194834, 194734, 191778, 188939, 187115, 186080, 185372, 182689, 181922, 179718, 178311, 176437, 175723, 173970, 220783, 216272, 215280, 212988, 210701, 209880, 205891, 202734, 198861, 197347, 195238, 194749, 193505, 191150, 187498, 186983, 185689, 183207, 182189, 180850, 178312, 178266, 175993, 174723, 172477, ...]</td>\n",
       "      <td>7057</td>\n",
       "      <td>NA</td>\n",
       "    </tr>\n",
       "    <tr>\n",
       "      <th>runtime</th>\n",
       "      <td>float64</td>\n",
       "      <td>0</td>\n",
       "      <td>[142.0, 154.0, 139.0, 136.0, 148.0, 122.0, 162.0, 195.0, 124.0, 140.0, 106.0, 118.0, 194.0, 177.0, 107.0, 111.0, 146.0, 117.0, 130.0, 99.0, 110.0, 189.0, 153.0, 98.0, 152.0, 175.0, 178.0, 201.0, 179.0, 121.0, 127.0, 155.0, 113.0, 169.0, 151.0, 200.0, 143.0, 137.0, 115.0, 132.0, 119.0, 108.0, 133.0, 116.0, 134.0, 144.0, 120.0, 131.0, 104.0, 100.0, 112.0, 129.0, 80.0, 138.0, 0.0, 90.0, 101.0, 91.0, 89.0, 102.0, 126.0, 161.0, 103.0, 109.0, 141.0, 170.0, 94.0, 95.0, 96.0, 145.0, 166.0, 150.0, 85.0, 135.0, 128.0, 125.0, 158.0, 163.0, 187.0, 92.0, 84.0, 188.0, 87.0, 157.0, 93.0, 149.0, 167.0, 105.0, 147.0, 160.0, 183.0, 207.0, 88.0, 123.0, 159.0, 81.0, 182.0, 156.0, 164.0, 165.0, ...]</td>\n",
       "      <td>162</td>\n",
       "      <td>NA</td>\n",
       "    </tr>\n",
       "    <tr>\n",
       "      <th>genres</th>\n",
       "      <td>object</td>\n",
       "      <td>1</td>\n",
       "      <td>[Crime|Drama, Crime|Thriller, Drama|Mystery|Thriller, Action|Adventure|Sci-Fi, Action|Adventure|Sci-Fi|Thriller, Comedy|Drama|Romance, Drama, Action|Adventure|Fantasy|Sci-Fi, Biography|Drama|History|War, Action|Adventure|Family|Sci-Fi, Action|Crime|Drama|Thriller, Crime|Mystery|Thriller, Adventure|Drama|History|Romance, Action|Biography|Drama|History|War, Action|Crime|Thriller, Biography|Crime|Drama|Thriller, Action|Fantasy|History|War, Crime|Drama|Thriller, Crime|Drama|Fantasy|Mystery, Adventure|Drama|War, Animation|Adventure|Family|Romance|Sci-Fi, Action|Adventure|Drama|Fantasy, Action|Adventure|Family|Fantasy|Sci-Fi, Crime|Drama|Mystery|Thriller, Action|Adventure|Drama, Action|Drama|History|War, Action|Adventure|Fantasy, Action|Sci-Fi|Thriller, Action|Adventure, Drama|Romance|Sci-Fi, Drama|Mystery|Sci-Fi, Adventure|Family|Sci-Fi, Crime|Drama|Sci-Fi, Crime|Drama|Romance|Thriller, Comedy|Fantasy|Romance, Action|Thriller, Action|Sci-Fi, Drama|Sci-Fi|Thriller, Animation|Adventure|Comedy|Family, Action|Drama|Sci-Fi|Thriller, Mystery|Sci-Fi|Thriller, Animation|Action|Adventure|Family|Fantasy, Animation|Adventure|Comedy|Family|Fantasy, Drama|Fantasy|Mystery, Comedy|Crime, Drama|War, Adventure|Comedy, Animation|Adventure|Comedy|Drama|Family|Musical, Drama|Horror|Mystery, Horror|Sci-Fi, Western, Comedy|Drama|Sci-Fi, Drama|Thriller, Adventure|Drama|Sci-Fi|Thriller, Adventure|Mystery|Sci-Fi, Comedy|Drama, Drama|Fantasy|Mystery|Romance, Animation|Comedy|Family|Fantasy, Biography|Drama|War, Thriller, Action|Drama|Fantasy|Thriller, Adventure|Family|Fantasy|Mystery, Action|Drama|Mystery|Sci-Fi|Thriller, Comedy, Horror|Mystery|Sci-Fi, Biography|Drama, Action|Comedy|Mystery, Action|Crime|Mystery|Thriller, Drama|Sport, Adventure|Comedy|Drama, Horror|Mystery|Thriller, Adventure|Drama|Fantasy, Biography|Comedy|Crime|Drama, Action|Crime|Fantasy|Thriller, Comedy|Drama|Fantasy|Romance, Animation|Adventure|Comedy|Drama|Family|Fantasy, Comedy|Horror, Action|Crime|Mystery|Sci-Fi|Thriller, Action|Drama|History|Romance, Action|Adventure|Drama|Sci-Fi|Thriller, Action|Adventure|Drama|Romance|Thriller, Drama|Mystery, Action|Adventure|Comedy, Adventure|Drama|Fantasy|Romance, Adventure|Drama|Thriller, Adventure|Comedy|Family|Fantasy|Romance, Crime|Horror|Mystery|Thriller, Adventure|Biography|Drama, Animation|Adventure|Comedy, Drama|Romance, Drama|Mystery|Sci-Fi|Thriller, Action|Drama|War, Animation|Adventure|Family|Fantasy, Action|Adventure|Drama|History|War, Adventure|Drama, Horror|Sci-Fi|Thriller, Drama|Romance|Sport, Adventure|Drama|Family|Fantasy|Sci-Fi, Action|Adventure|Comedy|Sci-Fi, Mystery|Romance|Thriller, ...]</td>\n",
       "      <td>1644</td>\n",
       "      <td>NA</td>\n",
       "    </tr>\n",
       "    <tr>\n",
       "      <th>genre:Action</th>\n",
       "      <td>bool</td>\n",
       "      <td>0</td>\n",
       "      <td>[False, True]</td>\n",
       "      <td>2</td>\n",
       "      <td>False:8109<br>True:1891</td>\n",
       "    </tr>\n",
       "    <tr>\n",
       "      <th>genre:Adult</th>\n",
       "      <td>bool</td>\n",
       "      <td>0</td>\n",
       "      <td>[False, True]</td>\n",
       "      <td>2</td>\n",
       "      <td>False:9991<br>True:9</td>\n",
       "    </tr>\n",
       "    <tr>\n",
       "      <th>genre:Adventure</th>\n",
       "      <td>bool</td>\n",
       "      <td>0</td>\n",
       "      <td>[False, True]</td>\n",
       "      <td>2</td>\n",
       "      <td>False:8687<br>True:1313</td>\n",
       "    </tr>\n",
       "    <tr>\n",
       "      <th>genre:Animation</th>\n",
       "      <td>bool</td>\n",
       "      <td>0</td>\n",
       "      <td>[False, True]</td>\n",
       "      <td>2</td>\n",
       "      <td>False:9686<br>True:314</td>\n",
       "    </tr>\n",
       "    <tr>\n",
       "      <th>genre:Biography</th>\n",
       "      <td>bool</td>\n",
       "      <td>0</td>\n",
       "      <td>[False, True]</td>\n",
       "      <td>2</td>\n",
       "      <td>False:9606<br>True:394</td>\n",
       "    </tr>\n",
       "    <tr>\n",
       "      <th>genre:Comedy</th>\n",
       "      <td>bool</td>\n",
       "      <td>0</td>\n",
       "      <td>[False, True]</td>\n",
       "      <td>2</td>\n",
       "      <td>False:6078<br>True:3922</td>\n",
       "    </tr>\n",
       "    <tr>\n",
       "      <th>genre:Crime</th>\n",
       "      <td>bool</td>\n",
       "      <td>0</td>\n",
       "      <td>[True, False]</td>\n",
       "      <td>2</td>\n",
       "      <td>False:8133<br>True:1867</td>\n",
       "    </tr>\n",
       "    <tr>\n",
       "      <th>genre:Drama</th>\n",
       "      <td>bool</td>\n",
       "      <td>0</td>\n",
       "      <td>[True, False]</td>\n",
       "      <td>2</td>\n",
       "      <td>True:5697<br>False:4303</td>\n",
       "    </tr>\n",
       "    <tr>\n",
       "      <th>genre:Family</th>\n",
       "      <td>bool</td>\n",
       "      <td>0</td>\n",
       "      <td>[False, True]</td>\n",
       "      <td>2</td>\n",
       "      <td>False:9246<br>True:754</td>\n",
       "    </tr>\n",
       "    <tr>\n",
       "      <th>genre:Fantasy</th>\n",
       "      <td>bool</td>\n",
       "      <td>0</td>\n",
       "      <td>[False, True]</td>\n",
       "      <td>2</td>\n",
       "      <td>False:9084<br>True:916</td>\n",
       "    </tr>\n",
       "    <tr>\n",
       "      <th>genre:Film-Noir</th>\n",
       "      <td>bool</td>\n",
       "      <td>0</td>\n",
       "      <td>[False, True]</td>\n",
       "      <td>2</td>\n",
       "      <td>False:9960<br>True:40</td>\n",
       "    </tr>\n",
       "    <tr>\n",
       "      <th>genre:History</th>\n",
       "      <td>bool</td>\n",
       "      <td>0</td>\n",
       "      <td>[False, True]</td>\n",
       "      <td>2</td>\n",
       "      <td>False:9642<br>True:358</td>\n",
       "    </tr>\n",
       "    <tr>\n",
       "      <th>genre:Horror</th>\n",
       "      <td>bool</td>\n",
       "      <td>0</td>\n",
       "      <td>[False, True]</td>\n",
       "      <td>2</td>\n",
       "      <td>False:8785<br>True:1215</td>\n",
       "    </tr>\n",
       "    <tr>\n",
       "      <th>genre:Music</th>\n",
       "      <td>bool</td>\n",
       "      <td>0</td>\n",
       "      <td>[False, True]</td>\n",
       "      <td>2</td>\n",
       "      <td>False:9629<br>True:371</td>\n",
       "    </tr>\n",
       "    <tr>\n",
       "      <th>genre:Musical</th>\n",
       "      <td>bool</td>\n",
       "      <td>0</td>\n",
       "      <td>[False, True]</td>\n",
       "      <td>2</td>\n",
       "      <td>False:9740<br>True:260</td>\n",
       "    </tr>\n",
       "    <tr>\n",
       "      <th>genre:Mystery</th>\n",
       "      <td>bool</td>\n",
       "      <td>0</td>\n",
       "      <td>[False, True]</td>\n",
       "      <td>2</td>\n",
       "      <td>False:8991<br>True:1009</td>\n",
       "    </tr>\n",
       "    <tr>\n",
       "      <th>genre:News</th>\n",
       "      <td>bool</td>\n",
       "      <td>0</td>\n",
       "      <td>[False, True]</td>\n",
       "      <td>2</td>\n",
       "      <td>False:9999<br>True:1</td>\n",
       "    </tr>\n",
       "    <tr>\n",
       "      <th>genre:Reality-TV</th>\n",
       "      <td>bool</td>\n",
       "      <td>0</td>\n",
       "      <td>[False, True]</td>\n",
       "      <td>2</td>\n",
       "      <td>False:9999<br>True:1</td>\n",
       "    </tr>\n",
       "    <tr>\n",
       "      <th>genre:Romance</th>\n",
       "      <td>bool</td>\n",
       "      <td>0</td>\n",
       "      <td>[False, True]</td>\n",
       "      <td>2</td>\n",
       "      <td>False:7559<br>True:2441</td>\n",
       "    </tr>\n",
       "    <tr>\n",
       "      <th>genre:Sci-Fi</th>\n",
       "      <td>bool</td>\n",
       "      <td>0</td>\n",
       "      <td>[False, True]</td>\n",
       "      <td>2</td>\n",
       "      <td>False:9103<br>True:897</td>\n",
       "    </tr>\n",
       "    <tr>\n",
       "      <th>genre:Sport</th>\n",
       "      <td>bool</td>\n",
       "      <td>0</td>\n",
       "      <td>[False, True]</td>\n",
       "      <td>2</td>\n",
       "      <td>False:9712<br>True:288</td>\n",
       "    </tr>\n",
       "    <tr>\n",
       "      <th>genre:Thriller</th>\n",
       "      <td>bool</td>\n",
       "      <td>0</td>\n",
       "      <td>[False, True]</td>\n",
       "      <td>2</td>\n",
       "      <td>False:7168<br>True:2832</td>\n",
       "    </tr>\n",
       "    <tr>\n",
       "      <th>genre:War</th>\n",
       "      <td>bool</td>\n",
       "      <td>0</td>\n",
       "      <td>[False, True]</td>\n",
       "      <td>2</td>\n",
       "      <td>False:9488<br>True:512</td>\n",
       "    </tr>\n",
       "    <tr>\n",
       "      <th>genre:Western</th>\n",
       "      <td>bool</td>\n",
       "      <td>0</td>\n",
       "      <td>[False, True]</td>\n",
       "      <td>2</td>\n",
       "      <td>False:9765<br>True:235</td>\n",
       "    </tr>\n",
       "  </tbody>\n",
       "</table>"
      ],
      "text/plain": [
       "<IPython.core.display.HTML object>"
      ]
     },
     "metadata": {},
     "output_type": "display_data"
    }
   ],
   "source": [
    "tbl_report(data)"
   ]
  },
  {
   "cell_type": "code",
   "execution_count": 20,
   "metadata": {
    "collapsed": false,
    "jupyter": {
     "outputs_hidden": false
    }
   },
   "outputs": [
    {
     "data": {
      "text/html": [
       "<div>\n",
       "<style scoped>\n",
       "    .dataframe tbody tr th:only-of-type {\n",
       "        vertical-align: middle;\n",
       "    }\n",
       "\n",
       "    .dataframe tbody tr th {\n",
       "        vertical-align: top;\n",
       "    }\n",
       "\n",
       "    .dataframe thead th {\n",
       "        text-align: right;\n",
       "    }\n",
       "</style>\n",
       "<table border=\"1\" class=\"dataframe\">\n",
       "  <thead>\n",
       "    <tr style=\"text-align: right;\">\n",
       "      <th></th>\n",
       "      <th>score</th>\n",
       "      <th>runtime</th>\n",
       "      <th>year</th>\n",
       "      <th>votes</th>\n",
       "    </tr>\n",
       "  </thead>\n",
       "  <tbody>\n",
       "    <tr>\n",
       "      <th>count</th>\n",
       "      <td>10000.000000</td>\n",
       "      <td>10000.000000</td>\n",
       "      <td>10000.000000</td>\n",
       "      <td>10000.000000</td>\n",
       "    </tr>\n",
       "    <tr>\n",
       "      <th>mean</th>\n",
       "      <td>6.386070</td>\n",
       "      <td>103.578400</td>\n",
       "      <td>1993.472800</td>\n",
       "      <td>16604.012800</td>\n",
       "    </tr>\n",
       "    <tr>\n",
       "      <th>std</th>\n",
       "      <td>1.189933</td>\n",
       "      <td>26.628698</td>\n",
       "      <td>14.829924</td>\n",
       "      <td>34563.459698</td>\n",
       "    </tr>\n",
       "    <tr>\n",
       "      <th>min</th>\n",
       "      <td>1.500000</td>\n",
       "      <td>0.000000</td>\n",
       "      <td>1950.000000</td>\n",
       "      <td>1356.000000</td>\n",
       "    </tr>\n",
       "    <tr>\n",
       "      <th>25%</th>\n",
       "      <td>5.700000</td>\n",
       "      <td>93.000000</td>\n",
       "      <td>1986.000000</td>\n",
       "      <td>2333.750000</td>\n",
       "    </tr>\n",
       "    <tr>\n",
       "      <th>50%</th>\n",
       "      <td>6.600000</td>\n",
       "      <td>102.000000</td>\n",
       "      <td>1998.000000</td>\n",
       "      <td>4980.500000</td>\n",
       "    </tr>\n",
       "    <tr>\n",
       "      <th>75%</th>\n",
       "      <td>7.200000</td>\n",
       "      <td>115.000000</td>\n",
       "      <td>2005.000000</td>\n",
       "      <td>15277.750000</td>\n",
       "    </tr>\n",
       "    <tr>\n",
       "      <th>max</th>\n",
       "      <td>9.200000</td>\n",
       "      <td>450.000000</td>\n",
       "      <td>2011.000000</td>\n",
       "      <td>619479.000000</td>\n",
       "    </tr>\n",
       "  </tbody>\n",
       "</table>\n",
       "</div>"
      ],
      "text/plain": [
       "              score       runtime          year          votes\n",
       "count  10000.000000  10000.000000  10000.000000   10000.000000\n",
       "mean       6.386070    103.578400   1993.472800   16604.012800\n",
       "std        1.189933     26.628698     14.829924   34563.459698\n",
       "min        1.500000      0.000000   1950.000000    1356.000000\n",
       "25%        5.700000     93.000000   1986.000000    2333.750000\n",
       "50%        6.600000    102.000000   1998.000000    4980.500000\n",
       "75%        7.200000    115.000000   2005.000000   15277.750000\n",
       "max        9.200000    450.000000   2011.000000  619479.000000"
      ]
     },
     "execution_count": 20,
     "metadata": {},
     "output_type": "execute_result"
    }
   ],
   "source": [
    "data[['score', 'runtime', 'year', 'votes']].describe()"
   ]
  },
  {
   "cell_type": "code",
   "execution_count": 21,
   "metadata": {
    "collapsed": false,
    "jupyter": {
     "outputs_hidden": false
    }
   },
   "outputs": [
    {
     "name": "stdout",
     "output_type": "stream",
     "text": [
      "282\n"
     ]
    },
    {
     "name": "stderr",
     "output_type": "stream",
     "text": [
      "<ipython-input-21-112aa0073759>:5: SettingWithCopyWarning: \n",
      "A value is trying to be set on a copy of a slice from a DataFrame\n",
      "\n",
      "See the caveats in the documentation: https://pandas.pydata.org/pandas-docs/stable/user_guide/indexing.html#returning-a-view-versus-a-copy\n",
      "  data['runtime'][data.runtime==0] = np.nan\n"
     ]
    }
   ],
   "source": [
    "#hmmm, a runtime of 0 looks suspicious. How many movies have that?\n",
    "print(len(data[data.runtime == 0]))\n",
    "\n",
    "#probably best to flag those bad data as NAN\n",
    "data['runtime'][data.runtime==0] = np.nan"
   ]
  },
  {
   "cell_type": "markdown",
   "metadata": {},
   "source": [
    "After flagging bad runtimes, we repeat"
   ]
  },
  {
   "cell_type": "code",
   "execution_count": 22,
   "metadata": {
    "collapsed": false,
    "jupyter": {
     "outputs_hidden": false
    }
   },
   "outputs": [
    {
     "data": {
      "text/plain": [
       "count    9718.000000\n",
       "mean      106.584071\n",
       "std        20.230586\n",
       "min        45.000000\n",
       "25%        93.000000\n",
       "50%       103.000000\n",
       "75%       115.000000\n",
       "max       450.000000\n",
       "Name: runtime, dtype: float64"
      ]
     },
     "execution_count": 22,
     "metadata": {},
     "output_type": "execute_result"
    }
   ],
   "source": [
    "data.runtime.describe()"
   ]
  },
  {
   "cell_type": "markdown",
   "metadata": {},
   "source": [
    "Let us save the dataframe to disk before we go doing EDA on it!"
   ]
  },
  {
   "cell_type": "code",
   "execution_count": 19,
   "metadata": {},
   "outputs": [],
   "source": [
    "data.to_csv(\"processed_data/imdb_top_10000_cleaned.csv\", index=False)"
   ]
  },
  {
   "cell_type": "code",
   "execution_count": 20,
   "metadata": {},
   "outputs": [
    {
     "name": "stdout",
     "output_type": "stream",
     "text": [
      "imdbID,title,year,score,votes,runtime,genres,genre:Action,genre:Adult,genre:Adventure,genre:Animation,genre:Biography,genre:Comedy,genre:Crime,genre:Drama,genre:Family,genre:Fantasy,genre:Film-Noir,genre:History,genre:Horror,genre:Music,genre:Musical,genre:Mystery,genre:News,genre:Reality-TV,genre:Romance,genre:Sci-Fi,genre:Sport,genre:Thriller,genre:War,genre:Western\n",
      "tt0111161,The Shawshank Redemption,1994,9.2,619479,142.0,Crime|Drama,False,False,False,False,False,False,True,True,False,False,False,False,False,False,False,False,False,False,False,False,False,False,False,False\n",
      "tt0110912,Pulp Fiction,1994,9.0,490065,154.0,Crime|Thriller,False,False,False,False,False,False,True,False,False,False,False,False,False,False,False,False,False,False,False,False,False,True,False,False\n",
      "tt0137523,Fight Club,1999,8.8,458173,139.0,Drama|Mystery|Thriller,False,False,False,False,False,False,False,True,False,False,False,False,False,False,False,True,False,False,False,False,False,True,False,False\n",
      "tt0133093,The Matrix,1999,8.7,448114,136.0,Action|Adventure|Sci-Fi,True,False,True,False,False,False,False,False,False,False,False,False,False,False,False,False,False,False,False,True,False,False,False,False\n"
     ]
    }
   ],
   "source": [
    "!head -5 processed_data/imdb_top_10000_cleaned.csv"
   ]
  }
 ],
 "metadata": {
  "kernelspec": {
   "display_name": "ml1-arm64",
   "language": "python",
   "name": "ml1-arm64"
  },
  "language_info": {
   "codemirror_mode": {
    "name": "ipython",
    "version": 3
   },
   "file_extension": ".py",
   "mimetype": "text/x-python",
   "name": "python",
   "nbconvert_exporter": "python",
   "pygments_lexer": "ipython3",
   "version": "3.9.1"
  }
 },
 "nbformat": 4,
 "nbformat_minor": 4
}
